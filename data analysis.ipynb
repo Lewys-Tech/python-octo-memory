{
 "cells": [
  {
   "cell_type": "markdown",
   "metadata": {},
   "source": [
    "python for data analysis\n"
   ]
  },
  {
   "cell_type": "code",
   "execution_count": null,
   "metadata": {},
   "outputs": [],
   "source": [
    "# Calculate variance and standard deviation of co2_emission for each food_category\n",
    "stats = food_consumption.groupby('food_category')['co2_emission'].agg([np.var, np.std])\n",
    "\n",
    "# Print the variance and standard deviation\n",
    "print(stats)\n",
    "\n",
    "# Import matplotlib.pyplot with alias plt\n",
    "import matplotlib.pyplot as plt\n",
    "\n",
    "# Create histogram of co2_emission for food_category 'beef'\n",
    "plt.hist(food_consumption[food_consumption['food_category'] == 'beef']['co2_emission'])\n",
    "plt.xlabel('CO2 Emission')\n",
    "plt.ylabel('Frequency')\n",
    "plt.title('Histogram of CO2 Emission for Beef')\n",
    "plt.show()\n",
    "\n",
    "# Create histogram of co2_emission for food_category 'eggs'\n",
    "plt.hist(food_consumption[food_consumption['food_category'] == 'eggs']['co2_emission'])\n",
    "plt.xlabel('CO2 Emission')\n",
    "plt.ylabel('Frequency')\n",
    "plt.title('Histogram of CO2 Emission for Eggs')\n",
    "plt.show()"
   ]
  },
  {
   "cell_type": "markdown",
   "metadata": {},
   "source": [
    "statistic in python"
   ]
  },
  {
   "cell_type": "markdown",
   "metadata": {},
   "source": [
    "Normal Distribution: First we have to import norm from scipy.stats "
   ]
  },
  {
   "cell_type": "code",
   "execution_count": null,
   "metadata": {},
   "outputs": [],
   "source": [
    "from scipy.stats import norm\n",
    "\n",
    "# Parameters for current market\n",
    "current_mean = 5000\n",
    "current_std_dev = 2000\n",
    "\n",
    "# Parameters for predicted market\n",
    "predicted_mean = 6000\n",
    "predicted_std_dev = 2600\n",
    "\n",
    "# Calculate probability of sales over $1000 in current market\n",
    "current_prob_over_1000 = 1 - norm.cdf(1000, current_mean, current_std_dev)\n",
    "\n",
    "# Calculate probability of sales over $1000 in predicted market\n",
    "predicted_prob_over_1000 = 1 - norm.cdf(1000, predicted_mean, predicted_std_dev)\n",
    "\n",
    "if current_prob_over_1000 > predicted_prob_over_1000:\n",
    "    print(\"Amir performs better in the current market based on the percentage of sales over $1000.\")\n",
    "elif current_prob_over_1000 < predicted_prob_over_1000:\n",
    "    print(\"Amir performs better in the predicted market based on the percentage of sales over $1000.\")\n",
    "else:\n",
    "    print(\"Amir performs equally well in both markets based on the percentage of sales over $1000.\")"
   ]
  }
 ],
 "metadata": {
  "kernelspec": {
   "display_name": "Python 3",
   "language": "python",
   "name": "python3"
  },
  "language_info": {
   "codemirror_mode": {
    "name": "ipython",
    "version": 3
   },
   "file_extension": ".py",
   "mimetype": "text/x-python",
   "name": "python",
   "nbconvert_exporter": "python",
   "pygments_lexer": "ipython3",
   "version": "3.12.1"
  }
 },
 "nbformat": 4,
 "nbformat_minor": 2
}
